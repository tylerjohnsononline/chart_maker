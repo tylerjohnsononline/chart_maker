{
  "cells": [
    {
      "attachments": {},
      "cell_type": "markdown",
      "metadata": {},
      "source": [
        "### Unit Tests"
      ]
    },
    {
      "cell_type": "code",
      "execution_count": 29,
      "metadata": {},
      "outputs": [],
      "source": [
        "import unittest # for unit tests and test driven development\n",
        "import cv2 # for manipultaing photos\n",
        "import os # for finding available photos\n",
        "# from matplotlib import pyplot as plt # for showing photos to the user\n",
        "# import numpy as np # for synthetically making photos\n",
        "# will need PIL from the Image module for changing colors"
      ]
    },
    {
      "attachments": {},
      "cell_type": "markdown",
      "metadata": {},
      "source": [
        "the first thing we need to make is the ability to check if a photo is available"
      ]
    },
    {
      "cell_type": "code",
      "execution_count": 77,
      "metadata": {},
      "outputs": [],
      "source": [
        "import unittest\n",
        "import os\n",
        "\n",
        "class TestPhotoLoadedIn(unittest.TestCase):\n",
        "  def setUp(self):\n",
        "    self.path_to_glacier = \"test_photos/public_domain_glacier_mountains.jpg\"\n",
        "    self.photo_of_glacier = cv2.imread(self.path_to_glacier)\n",
        "    self.photos_in_test_folder = os.listdir(\"test_photos\")\n",
        "    self.Storage = PhotoStorage(self.path_to_glacier)\n",
        "    # self.FolderTestClass = FolderManager()\n",
        "\n",
        "  def test_retreives_a_list_of_all_files_in_a_folder(self):\n",
        "    self.assertEqual(available_files_in_folder(path = \"test_photos\"), \n",
        "                     ['public_domain_glacier_mountains.jpg'])\n",
        "\n",
        "  def test_glacier_photo_is_in_test_photos_folder(self):\n",
        "    self.assertIn('public_domain_glacier_mountains.jpg', \n",
        "                  self.photos_in_test_folder)\n",
        "\n",
        "  def test_original_photo_is_stored_upon_class_creation(self):\n",
        "    self.assertIn(self.Storage.original_photo,\n",
        "                     self.photo_of_glacier)\n",
        "\n",
        "\n"
      ]
    },
    {
      "cell_type": "code",
      "execution_count": 97,
      "metadata": {},
      "outputs": [],
      "source": [
        "class TestPhotoIsSquared(unittest.TestCase):\n",
        "  # def __init__(self) -> None:\n",
        "  #   pass\n",
        "  \n",
        "  def setUp(self):\n",
        "    self.path_to_glacier = \"test_photos/glacier_photo/public_domain_glacier_mountains.jpg\"\n",
        "    self.photo_of_glacier = cv2.imread(self.path_to_glacier)\n",
        "    self.Storage = PhotoStorage(self.path_to_glacier)\n",
        "    self.photo_of_glacier_squared = self.Storage.make_a_photo_square_by_adding_blank_space()\n",
        "\n",
        "    self.how_wide = 2\n",
        "    self.horizontal_compensation = make_vertically_long_border(self.photo_of_glacier, \n",
        "                                thickness = self.how_wide)\n",
        "    self.how_tall = 2\n",
        "    self.vertical_compensation = make_horizontally_long_border(self.photo_of_glacier, \n",
        "                                thickness = self.how_tall)\n",
        "\n",
        "\n",
        "  def test_horizontal_compensation_is_as_tall_as_the_original_photo(self):\n",
        "    self.assertEqual(self.horizontal_compensation.shape[0], \n",
        "                     self.photo_of_glacier.shape[0]) \n",
        "    # array([], shape=(750, , 3), dtype=uint8)\n",
        "\n",
        "  def test_vertical_compensation_is_as_wide_as_the_original_photo(self):\n",
        "    self.assertEqual(self.vertical_compensation.shape[1], \n",
        "                     self.photo_of_glacier.shape[1]) \n",
        "\n",
        "  def test_width_of_border_is_what_was_input(self):\n",
        "    self.assertEqual(self.horizontal_compensation.shape[1],\n",
        "                     self.how_wide)\n",
        "  def test_height_is_as_input(self):\n",
        "    self.assertEqual(self.vertical_compensation.shape[0], \n",
        "                     self.how_tall)\n",
        "  # def test_horizontal_compensation_is_equal_to_the_difference_between_photo_being_square(self):\n",
        "  #   failing test\n",
        "  # def test_vertical_compensation_is_equal_to_the_difference_between_photo_being_square(self):\n",
        "  #   failing test\n",
        "\n",
        "\n",
        "  def test_make_photo_square(self):\n",
        "    \"this is to prevent distortion in the end result\"\n",
        "    self.assertEqual(self.photo_of_glacier_squared.shape()[0], \n",
        "                     self.photo_of_glacier_squared.shape()[1])\n",
        "\n"
      ]
    },
    {
      "cell_type": "code",
      "execution_count": 98,
      "metadata": {},
      "outputs": [
        {
          "name": "stderr",
          "output_type": "stream",
          "text": [
            "test_height_is_as_input (__main__.TestPhotoIsSquared.test_height_is_as_input) ... ok\n",
            "test_horizontal_compensation_is_as_tall_as_the_original_photo (__main__.TestPhotoIsSquared.test_horizontal_compensation_is_as_tall_as_the_original_photo) ... ok\n",
            "test_make_photo_square (__main__.TestPhotoIsSquared.test_make_photo_square)\n",
            "this is to prevent distortion in the end result ... ERROR\n",
            "test_vertical_compensation_is_as_wide_as_the_original_photo (__main__.TestPhotoIsSquared.test_vertical_compensation_is_as_wide_as_the_original_photo) ... ok\n",
            "test_width_of_border_is_what_was_input (__main__.TestPhotoIsSquared.test_width_of_border_is_what_was_input) ... ok\n",
            "test_glacier_photo_is_in_test_photos_folder (__main__.TestPhotoLoadedIn.test_glacier_photo_is_in_test_photos_folder) ... FAIL\n",
            "test_original_photo_is_stored_upon_class_creation (__main__.TestPhotoLoadedIn.test_original_photo_is_stored_upon_class_creation) ... ERROR\n",
            "test_retreives_a_list_of_all_files_in_a_folder (__main__.TestPhotoLoadedIn.test_retreives_a_list_of_all_files_in_a_folder) ... FAIL\n",
            "\n",
            "======================================================================\n",
            "ERROR: test_make_photo_square (__main__.TestPhotoIsSquared.test_make_photo_square)\n",
            "this is to prevent distortion in the end result\n",
            "----------------------------------------------------------------------\n",
            "Traceback (most recent call last):\n",
            "  File \"C:\\Users\\Tyler\\AppData\\Local\\Temp\\ipykernel_3208\\3936900426.py\", line 42, in test_make_photo_square\n",
            "    self.assertEqual(self.photo_of_glacier_squared.shape()[0],\n",
            "                    ^^^^^^^^^^^^^^^^^^^^^^^^^^^^^^^^^^^^^\n",
            "TypeError: 'tuple' object is not callable\n",
            "\n",
            "======================================================================\n",
            "ERROR: test_original_photo_is_stored_upon_class_creation (__main__.TestPhotoLoadedIn.test_original_photo_is_stored_upon_class_creation)\n",
            "----------------------------------------------------------------------\n",
            "Traceback (most recent call last):\n",
            "  File \"C:\\Users\\Tyler\\AppData\\Local\\Temp\\ipykernel_3208\\3611343890.py\", line 21, in test_original_photo_is_stored_upon_class_creation\n",
            "    self.assertIn(self.Storage.original_photo,\n",
            "  File \"c:\\Program Files\\Python311\\Lib\\unittest\\case.py\", line 1137, in assertIn\n",
            "    if member not in container:\n",
            "       ^^^^^^^^^^^^^^^^^^^^^^^\n",
            "TypeError: argument of type 'NoneType' is not iterable\n",
            "\n",
            "======================================================================\n",
            "FAIL: test_glacier_photo_is_in_test_photos_folder (__main__.TestPhotoLoadedIn.test_glacier_photo_is_in_test_photos_folder)\n",
            "----------------------------------------------------------------------\n",
            "Traceback (most recent call last):\n",
            "  File \"C:\\Users\\Tyler\\AppData\\Local\\Temp\\ipykernel_3208\\3611343890.py\", line 17, in test_glacier_photo_is_in_test_photos_folder\n",
            "    self.assertIn('public_domain_glacier_mountains.jpg',\n",
            "AssertionError: 'public_domain_glacier_mountains.jpg' not found in ['glacier_photo', 'pexels-photo-14098200.webp', 'pexels-wr-heustis-14098200.jpg', 'yellow_flower.jpeg']\n",
            "\n",
            "======================================================================\n",
            "FAIL: test_retreives_a_list_of_all_files_in_a_folder (__main__.TestPhotoLoadedIn.test_retreives_a_list_of_all_files_in_a_folder)\n",
            "----------------------------------------------------------------------\n",
            "Traceback (most recent call last):\n",
            "  File \"C:\\Users\\Tyler\\AppData\\Local\\Temp\\ipykernel_3208\\3611343890.py\", line 13, in test_retreives_a_list_of_all_files_in_a_folder\n",
            "    self.assertEqual(available_files_in_folder(path = \"test_photos\"),\n",
            "AssertionError: Lists differ: ['glacier_photo', 'pexels-photo-14098200.we[55 chars]peg'] != ['public_domain_glacier_mountains.jpg']\n",
            "\n",
            "First differing element 0:\n",
            "'glacier_photo'\n",
            "'public_domain_glacier_mountains.jpg'\n",
            "\n",
            "First list contains 3 additional elements.\n",
            "First extra element 1:\n",
            "'pexels-photo-14098200.webp'\n",
            "\n",
            "+ ['public_domain_glacier_mountains.jpg']\n",
            "- ['glacier_photo',\n",
            "-  'pexels-photo-14098200.webp',\n",
            "-  'pexels-wr-heustis-14098200.jpg',\n",
            "-  'yellow_flower.jpeg']\n",
            "\n",
            "----------------------------------------------------------------------\n",
            "Ran 8 tests in 0.188s\n",
            "\n",
            "FAILED (failures=2, errors=2)\n"
          ]
        },
        {
          "name": "stdout",
          "output_type": "stream",
          "text": [
            "<class 'numpy.ndarray'>\n",
            "<class 'numpy.ndarray'>\n",
            "<class 'numpy.ndarray'>\n",
            "<class 'numpy.ndarray'>\n",
            "<class 'numpy.ndarray'>\n",
            "<class 'numpy.ndarray'>\n",
            "<class 'numpy.ndarray'>\n",
            "<class 'numpy.ndarray'>\n",
            "<class 'numpy.ndarray'>\n",
            "<class 'numpy.ndarray'>\n",
            "<class 'NoneType'>\n",
            "<class 'NoneType'>\n",
            "<class 'NoneType'>\n"
          ]
        }
      ],
      "source": [
        "def main():\n",
        "  unittest.main(argv = [''], verbosity = 2, exit = False)\n",
        "\n",
        "if __name__ == \"__main__\":\n",
        "    main()\n"
      ]
    },
    {
      "cell_type": "markdown",
      "metadata": {},
      "source": []
    },
    {
      "cell_type": "code",
      "execution_count": 93,
      "metadata": {},
      "outputs": [],
      "source": [
        "import os\n",
        "import cv2\n",
        "\n",
        "class PhotoStorage():\n",
        "  def __init__(self, path) -> None:\n",
        "    self.path_to_photo = path\n",
        "    self.original_photo = cv2.imread(path)\n",
        "    print(type(self.original_photo))\n",
        "\n",
        "  def make_a_photo_square_by_adding_blank_space(self):\n",
        "    print(type(self.original_photo))\n",
        "    original_dimensions = self.original_photo.shape\n",
        "    vertical = original_dimensions[0]\n",
        "    horizontal = original_dimensions[1]\n",
        "    if vertical == horizontal:\n",
        "      squared_photo = self.original_photo\n",
        "    # else:\n",
        "    elif vertical > horizontal:\n",
        "      # get a photo to append to the bottom to make up for the disparity\n",
        "      how_much_wider_the_photo_needs_to_be = vertical - horizontal\n",
        "      # append to the bottom\n",
        "      squared_photo = cv2.hconcat(self.original_photo,\n",
        "                  how_much_wider_the_photo_needs_to_be)\n",
        "    elif vertical < horizontal:\n",
        "      how_much_taller_the_photo_needs_to_be = horizontal - vertical\n",
        "      squared_photo = cv2.vconcat(self.original_photo,\n",
        "                  how_much_taller_the_photo_needs_to_be)\n",
        "    self.readied_photo = squared_photo\n",
        "    return squared_photo\n",
        "\n",
        "# class FolderManager():\n",
        "#   def __init__(self) -> None:\n",
        "#     pass\n",
        "def available_files_in_folder(path):\n",
        "    dir_lst = os.listdir(path)\n",
        "    return dir_lst\n"
      ]
    },
    {
      "cell_type": "code",
      "execution_count": 94,
      "metadata": {},
      "outputs": [
        {
          "name": "stdout",
          "output_type": "stream",
          "text": [
            "<class 'numpy.ndarray'>\n",
            "<class 'numpy.ndarray'>\n"
          ]
        },
        {
          "data": {
            "text/plain": [
              "array([[213, 213, 213],\n",
              "       [214, 214, 214],\n",
              "       [214, 214, 214],\n",
              "       ...,\n",
              "       [ 85,  85,  85],\n",
              "       [ 70,  70,  70],\n",
              "       [ 80,  80,  80]], dtype=uint8)"
            ]
          },
          "execution_count": 94,
          "metadata": {},
          "output_type": "execute_result"
        }
      ],
      "source": [
        "go = PhotoStorage(\"test_photos\\glacier_photo\\public_domain_glacier_mountains.jpg\")\n",
        "type(go.original_photo)\n",
        "go.make_a_photo_square_by_adding_blank_space()\n",
        "go.readied_photo"
      ]
    },
    {
      "cell_type": "code",
      "execution_count": 95,
      "metadata": {},
      "outputs": [],
      "source": [
        "def make_vertically_long_border(photo, \n",
        "                                thickness = 1,\n",
        "                                number_coresponding_gray = 150\n",
        "                                ):\n",
        "  import numpy as np\n",
        "\n",
        "  height = photo.shape[0] #here\n",
        "  width = thickness #and flip height and width/s asignment parameters\n",
        "\n",
        "  blank_image = np.zeros((height, width, 3), np.uint8)\n",
        "  \n",
        "  #color it to be the corresponding gray in the keyword argument\n",
        "  blank_image.fill(number_coresponding_gray)\n",
        "  matching_vertical_border = blank_image\n",
        "\n",
        "  return matching_vertical_border\n"
      ]
    },
    {
      "cell_type": "code",
      "execution_count": 96,
      "metadata": {},
      "outputs": [],
      "source": [
        "def make_horizontally_long_border(photo, \n",
        "                                thickness = 10,\n",
        "                                number_coresponding_gray = 150\n",
        "                                ):\n",
        "  import numpy as np\n",
        "\n",
        "  height =  thickness\n",
        "  width = photo.shape[1] \n",
        "\n",
        "  blank_image = np.zeros((height, width, 3), np.uint8)\n",
        "  \n",
        "  #color it to be the corresponding gray in the keyword argument\n",
        "  blank_image.fill(number_coresponding_gray)\n",
        "  matching_horizontal_border = np.array(blank_image, dtype = 'uint8')\n",
        "  \n",
        "\n",
        "  return matching_horizontal_border\n"
      ]
    },
    {
      "cell_type": "code",
      "execution_count": 54,
      "metadata": {},
      "outputs": [],
      "source": [
        "local_path = \"test_photos\\public_domain_glacier_mountains.jpg\"\n",
        "example_photo = PhotoStorage(local_path)\n",
        "example_photo.original_photo\n"
      ]
    },
    {
      "cell_type": "code",
      "execution_count": 62,
      "metadata": {},
      "outputs": [
        {
          "data": {
            "text/plain": [
              "(750, 1000, 3)"
            ]
          },
          "execution_count": 62,
          "metadata": {},
          "output_type": "execute_result"
        }
      ],
      "source": [
        "import cv2\n",
        "\n",
        "path = \"test_photos\\glacier_photo\\public_domain_glacier_mountains.jpg\"\n",
        "photo = cv2.imread(path)\n",
        "# print(type(photo))\n",
        "photo.shape\n",
        "# make_vertically_long_border(photo)"
      ]
    }
  ],
  "metadata": {
    "colab": {
      "provenance": []
    },
    "kernelspec": {
      "display_name": "Python 3",
      "language": "python",
      "name": "python3"
    },
    "language_info": {
      "codemirror_mode": {
        "name": "ipython",
        "version": 3
      },
      "file_extension": ".py",
      "mimetype": "text/x-python",
      "name": "python",
      "nbconvert_exporter": "python",
      "pygments_lexer": "ipython3",
      "version": "3.11.1"
    },
    "vscode": {
      "interpreter": {
        "hash": "5238573367df39f7286bb46f9ff5f08f63a01a80960060ce41e3c79b190280fa"
      }
    }
  },
  "nbformat": 4,
  "nbformat_minor": 0
}
