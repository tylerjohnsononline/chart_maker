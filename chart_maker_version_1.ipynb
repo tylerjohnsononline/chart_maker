{
  "cells": [
    {
      "attachments": {},
      "cell_type": "markdown",
      "metadata": {},
      "source": [
        "### Unit Tests"
      ]
    },
    {
      "cell_type": "code",
      "execution_count": 1,
      "metadata": {},
      "outputs": [],
      "source": [
        "import unittest\n",
        "import cv2\n",
        "import os\n"
      ]
    },
    {
      "attachments": {},
      "cell_type": "markdown",
      "metadata": {},
      "source": [
        "the first thing we need to make is the ability to check if a photo is available"
      ]
    },
    {
      "cell_type": "code",
      "execution_count": 21,
      "metadata": {},
      "outputs": [
        {
          "name": "stderr",
          "output_type": "stream",
          "text": [
            "test_glacier_photo_is_in_test_photos_folder (__main__.TestPhotoLoadedIn.test_glacier_photo_is_in_test_photos_folder) ... ok\n",
            "test_original_photo_is_stored_upon_class_creation (__main__.TestPhotoLoadedIn.test_original_photo_is_stored_upon_class_creation) ... ok\n",
            "test_retreives_a_list_of_all_photos_in_a_folder (__main__.TestPhotoLoadedIn.test_retreives_a_list_of_all_photos_in_a_folder) ... ok\n",
            "\n",
            "----------------------------------------------------------------------\n",
            "Ran 3 tests in 0.090s\n",
            "\n",
            "OK\n"
          ]
        }
      ],
      "source": [
        "import unittest\n",
        "import os\n",
        "\n",
        "class TestPhotoLoadedIn(unittest.TestCase):\n",
        "  def setUp(self):\n",
        "    self.path_to_glacier = \"test_photos/public_domain_glacier_mountains.jpg\"\n",
        "    self.photo_of_glacier = cv2.imread(self.path_to_glacier)\n",
        "    self.photos_in_test_folder = os.listdir(\"test_photos\")\n",
        "    self.Storage = PhotoStorage(self.path_to_glacier)\n",
        "    # self.FolderTestClass = FolderManager()\n",
        "\n",
        "  def test_retreives_a_list_of_all_photos_in_a_folder(self):\n",
        "    self.assertEqual(available_photos_in_folder(path = \"test_photos\"), \n",
        "                     ['public_domain_glacier_mountains.jpg'])\n",
        "\n",
        "  def test_glacier_photo_is_in_test_photos_folder(self):\n",
        "    self.assertIn('public_domain_glacier_mountains.jpg', \n",
        "                  self.photos_in_test_folder)\n",
        "\n",
        "  def test_original_photo_is_stored_upon_class_creation(self):\n",
        "    self.assertIn(self.Storage.original_photo,\n",
        "                     self.photo_of_glacier)\n",
        "\n",
        "\n",
        "\n",
        "\n",
        "def main():\n",
        "  unittest.main(argv = [''], verbosity = 2, exit = False)\n",
        "\n",
        "if __name__ == \"__main__\":\n",
        "    main()\n"
      ]
    },
    {
      "cell_type": "code",
      "execution_count": 9,
      "metadata": {},
      "outputs": [],
      "source": [
        "import os\n",
        "import cv2\n",
        "\n",
        "class PhotoStorage():\n",
        "  def __init__(self, path) -> None:\n",
        "    self.path_to_photo = path\n",
        "    self.original_photo = cv2.imread(path)\n",
        "\n",
        "\n",
        "# class FolderManager():\n",
        "#   def __init__(self) -> None:\n",
        "#     pass\n",
        "def available_photos_in_folder(path):\n",
        "    dir_list = os.listdir(path)\n",
        "    return dir_list\n"
      ]
    },
    {
      "cell_type": "code",
      "execution_count": 26,
      "metadata": {},
      "outputs": [
        {
          "data": {
            "text/plain": [
              "(750, 1000, 3)"
            ]
          },
          "execution_count": 26,
          "metadata": {},
          "output_type": "execute_result"
        }
      ],
      "source": [
        "import cv2\n",
        "\n",
        "path = \"test_photos/public_domain_glacier_mountains.jpg\"\n",
        "photo = cv2.imread(path)\n",
        "photo.shape\n"
      ]
    }
  ],
  "metadata": {
    "colab": {
      "provenance": []
    },
    "kernelspec": {
      "display_name": "Python 3",
      "language": "python",
      "name": "python3"
    },
    "language_info": {
      "codemirror_mode": {
        "name": "ipython",
        "version": 3
      },
      "file_extension": ".py",
      "mimetype": "text/x-python",
      "name": "python",
      "nbconvert_exporter": "python",
      "pygments_lexer": "ipython3",
      "version": "3.11.1"
    },
    "vscode": {
      "interpreter": {
        "hash": "5238573367df39f7286bb46f9ff5f08f63a01a80960060ce41e3c79b190280fa"
      }
    }
  },
  "nbformat": 4,
  "nbformat_minor": 0
}
