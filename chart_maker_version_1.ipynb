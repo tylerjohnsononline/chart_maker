{
  "cells": [
    {
      "attachments": {},
      "cell_type": "markdown",
      "metadata": {},
      "source": [
        "### Unit Tests"
      ]
    },
    {
      "cell_type": "code",
      "execution_count": 3,
      "metadata": {},
      "outputs": [],
      "source": [
        "import unittest\n",
        "import cv2\n"
      ]
    },
    {
      "attachments": {},
      "cell_type": "markdown",
      "metadata": {},
      "source": [
        "the first thing we need to make is the ability to check if a photo is available"
      ]
    },
    {
      "cell_type": "code",
      "execution_count": 8,
      "metadata": {},
      "outputs": [
        {
          "name": "stderr",
          "output_type": "stream",
          "text": [
            "test_photo_is_retrieved_from_folder (__main__.TestPhoto_Loaded_In.test_photo_is_retrieved_from_folder) ... ok\n",
            "\n",
            "----------------------------------------------------------------------\n",
            "Ran 1 test in 0.013s\n",
            "\n",
            "OK\n"
          ]
        }
      ],
      "source": [
        "class TestPhoto_Loaded_In(unittest.TestCase):\n",
        "  def setUp(self):\n",
        "    self.path_to_glacier = \"test_photos/public_domain_glacier_mountains.jpg\"\n",
        "    self.test_photo_glacier = cv2.imread(self.path_to_glacier)\n",
        "\n",
        "  def tearDown(self):\n",
        "    pass\n",
        "\n",
        "\n",
        "  # def test_at_least_one_photo_is_in_the_photos_folder(self):\n",
        "  #   self.assertEqual()\n",
        "\n",
        "  # def test_retreives_a_list_of_all_photos_in_a_folder(self):\n",
        "  #   self.assertEqual()\n",
        "\n",
        "\n",
        "  # def test_photo_is_retrieved_from_folder(self):\n",
        "  #   self.assertEqual()\n",
        "\n",
        "\n",
        "def main():\n",
        "  unittest.main(argv = [''], verbosity = 2, exit = False)\n",
        "\n",
        "if __name__ == \"__main__\":\n",
        "    main()\n"
      ]
    },
    {
      "cell_type": "code",
      "execution_count": null,
      "metadata": {},
      "outputs": [],
      "source": []
    },
    {
      "cell_type": "code",
      "execution_count": 2,
      "metadata": {},
      "outputs": [
        {
          "ename": "NameError",
          "evalue": "name 'cv2' is not defined",
          "output_type": "error",
          "traceback": [
            "\u001b[1;31m---------------------------------------------------------------------------\u001b[0m",
            "\u001b[1;31mNameError\u001b[0m                                 Traceback (most recent call last)",
            "Cell \u001b[1;32mIn[2], line 2\u001b[0m\n\u001b[0;32m      1\u001b[0m path \u001b[39m=\u001b[39m \u001b[39m\"\u001b[39m\u001b[39mtest_photos/public_domain_glacier_mountains.jpg\u001b[39m\u001b[39m\"\u001b[39m\n\u001b[1;32m----> 2\u001b[0m photo \u001b[39m=\u001b[39m cv2\u001b[39m.\u001b[39mimread(path)\n\u001b[0;32m      3\u001b[0m photo\u001b[39m.\u001b[39mshape\n",
            "\u001b[1;31mNameError\u001b[0m: name 'cv2' is not defined"
          ]
        }
      ],
      "source": [
        "path = \"test_photos/public_domain_glacier_mountains.jpg\"\n",
        "photo = cv2.imread(path)\n",
        "photo.shape"
      ]
    }
  ],
  "metadata": {
    "colab": {
      "provenance": []
    },
    "kernelspec": {
      "display_name": "Python 3",
      "language": "python",
      "name": "python3"
    },
    "language_info": {
      "codemirror_mode": {
        "name": "ipython",
        "version": 3
      },
      "file_extension": ".py",
      "mimetype": "text/x-python",
      "name": "python",
      "nbconvert_exporter": "python",
      "pygments_lexer": "ipython3",
      "version": "3.11.1"
    },
    "vscode": {
      "interpreter": {
        "hash": "5238573367df39f7286bb46f9ff5f08f63a01a80960060ce41e3c79b190280fa"
      }
    }
  },
  "nbformat": 4,
  "nbformat_minor": 0
}
