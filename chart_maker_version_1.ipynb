{
  "cells": [
    {
      "attachments": {},
      "cell_type": "markdown",
      "metadata": {},
      "source": [
        "### Unit Tests"
      ]
    },
    {
      "cell_type": "code",
      "execution_count": 1,
      "metadata": {},
      "outputs": [],
      "source": [
        "import unittest\n",
        "import cv2\n",
        "import os\n",
        "from matplotlib import pyplot as plt\n"
      ]
    },
    {
      "attachments": {},
      "cell_type": "markdown",
      "metadata": {},
      "source": [
        "the first thing we need to make is the ability to check if a photo is available"
      ]
    },
    {
      "cell_type": "code",
      "execution_count": 9,
      "metadata": {},
      "outputs": [
        {
          "ename": "SyntaxError",
          "evalue": "unterminated string literal (detected at line 26) (4221504239.py, line 26)",
          "output_type": "error",
          "traceback": [
            "\u001b[1;36m  Cell \u001b[1;32mIn[9], line 26\u001b[1;36m\u001b[0m\n\u001b[1;33m    I haven't written this test\u001b[0m\n\u001b[1;37m           ^\u001b[0m\n\u001b[1;31mSyntaxError\u001b[0m\u001b[1;31m:\u001b[0m unterminated string literal (detected at line 26)\n"
          ]
        }
      ],
      "source": [
        "import unittest\n",
        "import os\n",
        "\n",
        "class TestPhotoLoadedIn(unittest.TestCase):\n",
        "  def setUp(self):\n",
        "    self.path_to_glacier = \"test_photos/public_domain_glacier_mountains.jpg\"\n",
        "    self.photo_of_glacier = cv2.imread(self.path_to_glacier)\n",
        "    self.photos_in_test_folder = os.listdir(\"test_photos\")\n",
        "    self.Storage = PhotoStorage(self.path_to_glacier)\n",
        "    # self.FolderTestClass = FolderManager()\n",
        "\n",
        "  def test_retreives_a_list_of_all_files_in_a_folder(self):\n",
        "    self.assertEqual(available_files_in_folder(path = \"test_photos\"), \n",
        "                     ['public_domain_glacier_mountains.jpg'])\n",
        "\n",
        "  def test_glacier_photo_is_in_test_photos_folder(self):\n",
        "    self.assertIn('public_domain_glacier_mountains.jpg', \n",
        "                  self.photos_in_test_folder)\n",
        "\n",
        "  def test_original_photo_is_stored_upon_class_creation(self):\n",
        "    self.assertIn(self.Storage.original_photo,\n",
        "                     self.photo_of_glacier)\n",
        "\n",
        "  def test_make_photo_square(self):\n",
        "    \"this is to prevent distortion in the end result\"\n",
        "    I haven't written this test\n",
        "    self.photo_of_glacier_squared = make_a_photo_square_by_adding_blank_space(self.photo_of_glacier)\n",
        "    self.assertEqual(self.photo_of_glacier_squared.shape()[0], \n",
        "                     self.photo_of_glacier_squared.shape()[1])\n",
        "\n",
        "\n",
        "def main():\n",
        "  unittest.main(argv = [''], verbosity = 2, exit = False)\n",
        "\n",
        "if __name__ == \"__main__\":\n",
        "    main()\n"
      ]
    },
    {
      "cell_type": "code",
      "execution_count": 24,
      "metadata": {},
      "outputs": [],
      "source": [
        "import os\n",
        "import cv2\n",
        "\n",
        "class PhotoStorage():\n",
        "  def __init__(self, path) -> None:\n",
        "    self.path_to_photo = path\n",
        "    self.original_photo = cv2.imread(path)\n",
        "\n",
        "\n",
        "# class FolderManager():\n",
        "#   def __init__(self) -> None:\n",
        "#     pass\n",
        "def available_files_in_folder(path):\n",
        "    dir_lst = os.listdir(path)\n",
        "    return dir_lst\n"
      ]
    },
    {
      "cell_type": "code",
      "execution_count": null,
      "metadata": {},
      "outputs": [],
      "source": [
        "local_path = \"test_photos\\public_domain_glacier_mountains.jpg\"\n",
        "example_photo = PhotoStorage(local_path)\n",
        "example_photo.original_photo\n"
      ]
    },
    {
      "cell_type": "code",
      "execution_count": 26,
      "metadata": {},
      "outputs": [
        {
          "data": {
            "text/plain": [
              "(750, 1000, 3)"
            ]
          },
          "execution_count": 26,
          "metadata": {},
          "output_type": "execute_result"
        }
      ],
      "source": [
        "import cv2\n",
        "\n",
        "path = \"test_photos/public_domain_glacier_mountains.jpg\"\n",
        "photo = cv2.imread(path)\n",
        "photo.shape\n"
      ]
    }
  ],
  "metadata": {
    "colab": {
      "provenance": []
    },
    "kernelspec": {
      "display_name": "Python 3",
      "language": "python",
      "name": "python3"
    },
    "language_info": {
      "codemirror_mode": {
        "name": "ipython",
        "version": 3
      },
      "file_extension": ".py",
      "mimetype": "text/x-python",
      "name": "python",
      "nbconvert_exporter": "python",
      "pygments_lexer": "ipython3",
      "version": "3.11.1"
    },
    "vscode": {
      "interpreter": {
        "hash": "5238573367df39f7286bb46f9ff5f08f63a01a80960060ce41e3c79b190280fa"
      }
    }
  },
  "nbformat": 4,
  "nbformat_minor": 0
}
